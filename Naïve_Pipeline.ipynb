{
 "cells": [
  {
   "cell_type": "code",
   "execution_count": 1,
   "outputs": [],
   "source": [
    "#The goal is to be able to Read the text from a PDF file and then convert it to a text file\n",
    "#The text will then be fed into a BERT model from huggingface to extract most relevant sentences to a query\n",
    "#The sentences will then be given to a GPT model to generate a response using the relevant sentences and the query\n"
   ],
   "metadata": {
    "collapsed": false
   }
  },
  {
   "cell_type": "code",
   "execution_count": 2,
   "outputs": [],
   "source": [
    "#Import the necessary libraries\n",
    "import PyPDF2\n",
    "from transformers import pipeline\n",
    "import os\n",
    "import re\n",
    "import nltk\n",
    "\n",
    "\n"
   ],
   "metadata": {
    "collapsed": false
   }
  },
  {
   "cell_type": "code",
   "execution_count": 76,
   "outputs": [],
   "source": [
    "#Read the text from the PDF file\n",
    "pdfFileObj = open('Documents/02465_Notes.pdf', 'rb')\n",
    "pdfReader = PyPDF2.PdfReader(pdfFileObj)\n",
    "num_pages = len(pdfReader.pages)\n",
    "count = 0\n",
    "text_str = \"\"\n",
    "text_lst = []\n",
    "while count < num_pages:\n",
    "    pageObj = pdfReader.pages[count]\n",
    "    count +=1\n",
    "    text_str += pageObj.extract_text()\n",
    "    text_lst.append(pageObj.extract_text())\n",
    "\n",
    "\n"
   ],
   "metadata": {
    "collapsed": false
   }
  },
  {
   "cell_type": "code",
   "execution_count": 19,
   "outputs": [],
   "source": [
    "#Save the text list as several txt files with utf-8 encoding\n",
    "text_dict = \"Documents/02465_Notes\"\n",
    "if not os.path.exists(text_dict):\n",
    "    os.makedirs(text_dict)\n",
    "for i in range(len(text_lst)):\n",
    "    with open(text_dict + \"/\" + f\"file_{i}.txt\", \"w\", encoding=\"utf-8\") as f:\n",
    "        f.write(text_lst[i])\n"
   ],
   "metadata": {
    "collapsed": false
   }
  },
  {
   "cell_type": "code",
   "execution_count": 77,
   "outputs": [],
   "source": [
    "#feed the text to a BERT model which will extract the 5 most relevant sentences to a query\n",
    "oracle = pipeline(model=\"deepset/roberta-base-squad2\", tokenizer=\"deepset/roberta-base-squad2\")\n",
    "query = \"What is forward dynamical programming?\"\n",
    "Bert_topK = oracle(query, text_str, top_k=5)\n",
    "\n"
   ],
   "metadata": {
    "collapsed": false
   }
  },
  {
   "cell_type": "code",
   "execution_count": 78,
   "outputs": [],
   "source": [
    "#Save the text anwsers from the Bert model as a variable\n",
    "Bert_topK_answers = []\n",
    "for i in range(len(Bert_topK)):\n",
    "    Bert_topK_answers.append(Bert_topK[i]['answer'])\n",
    "\n",
    "Bert_topK_answers = ' and '.join(Bert_topK_answers)"
   ],
   "metadata": {
    "collapsed": false
   }
  },
  {
   "cell_type": "code",
   "execution_count": 79,
   "outputs": [],
   "source": [
    "#Clean Bert topK answers\n",
    "Bert_topK_answers = Bert_topK_answers.replace(\"\\n\", \" \")"
   ],
   "metadata": {
    "collapsed": false
   }
  },
  {
   "cell_type": "code",
   "execution_count": 81,
   "outputs": [
    {
     "name": "stderr",
     "output_type": "stream",
     "text": [
      "Setting `pad_token_id` to `eos_token_id`:50256 for open-end generation.\n"
     ]
    },
    {
     "data": {
      "text/plain": "[{'generated_text': 'Relevant context: Gym environment and the principle dynamic program- ming algorithm of optimality and Control-limited differen- tial dynamic programming and dynamic program- ming algorithm of optimality and principle dynamic program- ming algorithm of optimality, Question: What is forward dynamical programming?, Answer: iax, jst and jmp; The forward dynamic programming process is a program-based process that implements an algorithm called a principle dynamic programming process or principle dynamic program-ming algorithm. In principle, the forward dynamic programming process must begin by generating a program of type *c. The program is computed as a (hopefully optimal) sequence of numbers that can be replaced (usually by other numbers called recursion) by a sequence of larger numbers that can be replaced as necessary. Once the program is computed, it is examined as to whether it meets the requirements of the prior process. If it does not, then it must be rewritten to meet the requirements. If it does, then the program'}]"
     },
     "execution_count": 81,
     "metadata": {},
     "output_type": "execute_result"
    }
   ],
   "source": [
    "#Feed the relevant sentences and query to a GPT model to generate a response\n",
    "generator = pipeline(\"text-generation\", model=\"gpt2-large\")\n",
    "generator(f\"Relevant context: {Bert_topK_answers}, Question: {query}, Answer: \", max_length=200, do_sample=True)\n"
   ],
   "metadata": {
    "collapsed": false
   }
  },
  {
   "cell_type": "code",
   "execution_count": null,
   "outputs": [],
   "source": [],
   "metadata": {
    "collapsed": false
   }
  }
 ],
 "metadata": {
  "kernelspec": {
   "display_name": "Python 3",
   "language": "python",
   "name": "python3"
  },
  "language_info": {
   "codemirror_mode": {
    "name": "ipython",
    "version": 2
   },
   "file_extension": ".py",
   "mimetype": "text/x-python",
   "name": "python",
   "nbconvert_exporter": "python",
   "pygments_lexer": "ipython2",
   "version": "2.7.6"
  }
 },
 "nbformat": 4,
 "nbformat_minor": 0
}
