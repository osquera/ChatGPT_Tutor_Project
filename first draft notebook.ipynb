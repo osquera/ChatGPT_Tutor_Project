{
 "cells": [
  {
   "cell_type": "code",
   "execution_count": 1,
   "metadata": {
    "collapsed": true
   },
   "outputs": [],
   "source": [
    "from transformers import AutoTokenizer, AutoModel\n",
    "import torch\n",
    "\n",
    "#for not seing a warning message\n",
    "import logging\n",
    "logging.getLogger(\"transformers.modeling_utils\").setLevel(logging.ERROR)\n",
    "\n",
    "\n",
    "\n",
    "def get_text_embedding(text, model_name='bert-base-uncased'):\n",
    "    # Load pre-trained model and tokenizer\n",
    "    tokenizer = AutoTokenizer.from_pretrained(model_name)\n",
    "    model = AutoModel.from_pretrained(model_name)\n",
    "\n",
    "    # Tokenize input text and convert to PyTorch tensors\n",
    "    inputs = tokenizer(text, padding=True, truncation=True, return_tensors='pt')\n",
    "\n",
    "    # Get output from pre-trained model\n",
    "    with torch.no_grad():\n",
    "        outputs = model(**inputs)\n",
    "\n",
    "    # Extract last layer of output (CLS token) as the text embedding\n",
    "    embedding = outputs.last_hidden_state.mean(dim=1).squeeze()\n",
    "\n",
    "\n",
    "    return embedding"
   ]
  },
  {
   "cell_type": "code",
   "execution_count": 2,
   "outputs": [],
   "source": [
    "import numpy as np\n",
    "from sklearn.metrics.pairwise import cosine_similarity\n",
    "def get_similar_paragraphs(query_embedding, paragraph_embeddings, paragraphs, k=5):\n",
    "\n",
    "    # Compute the cosine similarities between the query embedding and each paragraph embedding\n",
    "    similarities = [cosine_similarity(query_embedding.reshape(1, -1), embedding.reshape(1, -1)) for embedding in paragraph_embeddings]\n",
    "\n",
    "    # Get the indices of the top k paragraphs based on their similarity scores\n",
    "    top_indices = sorted(range(len(similarities)), key=lambda i: similarities[i], reverse=True)[:k]\n",
    "\n",
    "    # Return the top k paragraphs and their similarity scores as a list dictionaries\n",
    "    return [{\"content\": paragraphs[i], \"score\" :similarities[i]} for i in top_indices]\n",
    "\n",
    "\n"
   ],
   "metadata": {
    "collapsed": false
   }
  },
  {
   "cell_type": "code",
   "execution_count": 36,
   "outputs": [],
   "source": [
    "query=\"Did the Greeks and the Romans have universities?\""
   ],
   "metadata": {
    "collapsed": false
   }
  },
  {
   "cell_type": "code",
   "execution_count": 4,
   "outputs": [
    {
     "data": {
      "text/plain": "Downloading (…)okenizer_config.json:   0%|          | 0.00/28.0 [00:00<?, ?B/s]",
      "application/vnd.jupyter.widget-view+json": {
       "version_major": 2,
       "version_minor": 0,
       "model_id": "769d0a71922d4d41b3f418520ecd7f88"
      }
     },
     "metadata": {},
     "output_type": "display_data"
    },
    {
     "name": "stderr",
     "output_type": "stream",
     "text": [
      "C:\\DTU - KID\\4. Semester\\Bachelor projekt AI\\KODE\\ChatGPT_Tutor_Project\\venv\\lib\\site-packages\\huggingface_hub\\file_download.py:129: UserWarning: `huggingface_hub` cache-system uses symlinks by default to efficiently store duplicated files but your machine does not support them in C:\\Users\\anton\\.cache\\huggingface\\hub. Caching files will still work but in a degraded version that might require more space on your disk. This warning can be disabled by setting the `HF_HUB_DISABLE_SYMLINKS_WARNING` environment variable. For more details, see https://huggingface.co/docs/huggingface_hub/how-to-cache#limitations.\n",
      "To support symlinks on Windows, you either need to activate Developer Mode or to run Python as an administrator. In order to see activate developer mode, see this article: https://docs.microsoft.com/en-us/windows/apps/get-started/enable-your-device-for-development\n",
      "  warnings.warn(message)\n"
     ]
    },
    {
     "data": {
      "text/plain": "Downloading (…)solve/main/vocab.txt:   0%|          | 0.00/232k [00:00<?, ?B/s]",
      "application/vnd.jupyter.widget-view+json": {
       "version_major": 2,
       "version_minor": 0,
       "model_id": "c427c1264a104255bdb7a3d76bca66e0"
      }
     },
     "metadata": {},
     "output_type": "display_data"
    },
    {
     "data": {
      "text/plain": "Downloading (…)/main/tokenizer.json:   0%|          | 0.00/466k [00:00<?, ?B/s]",
      "application/vnd.jupyter.widget-view+json": {
       "version_major": 2,
       "version_minor": 0,
       "model_id": "3d82c9367e0046bd937509a249893817"
      }
     },
     "metadata": {},
     "output_type": "display_data"
    },
    {
     "data": {
      "text/plain": "Downloading (…)\"pytorch_model.bin\";:   0%|          | 0.00/440M [00:00<?, ?B/s]",
      "application/vnd.jupyter.widget-view+json": {
       "version_major": 2,
       "version_minor": 0,
       "model_id": "7c401e3ef60d41f3b5b645540bdfe1dc"
      }
     },
     "metadata": {},
     "output_type": "display_data"
    }
   ],
   "source": [
    "#Open example text file\n",
    "path=\"Documents/\"\n",
    "file_name=\"rise_of_universities.txt\"\n",
    "\n",
    "with open(path+file_name, \"r\",encoding='utf-8') as file:\n",
    "    input_text = file.read()\n",
    "\n",
    "#split into paragraphs\n",
    "paragraphs = input_text.split(\"\\n\\n\")\n",
    "\n",
    "#Get embeddings of paragraphs and query\n",
    "embeddings = [get_text_embedding(paragraph) for paragraph in paragraphs]\n",
    "query_embedding = get_text_embedding(query)\n",
    "\n",
    "#Get top k similar paragraphs and cosine distance score\n",
    "similar_paragraphs = get_similar_paragraphs(query_embedding, embeddings,paragraphs, k=5)\n"
   ],
   "metadata": {
    "collapsed": false
   }
  },
  {
   "cell_type": "code",
   "execution_count": 43,
   "outputs": [
    {
     "name": "stdout",
     "output_type": "stream",
     "text": [
      "In northern Europe the origin of universities must be sought at Paris, in the cathedral school of Notre-Dame. By the beginning of the twelfth century in France and the Low Countries learning was no longer confined to monasteries but had its most active centres in the schools attached to cathedrals, of which the most famous were those of Liège, Rheims, Laon, Paris, Orleans, and Chartres. The most notable of these schools of the liberal arts was probably Chartres, distinguished by a canonist like St. Ives and by famous teachers of classics and philosophy like Bernard and Thierry. As early as 991 a monk of Rheims, Richer, describes the hardships of his journey to Chartres in order to study the Aphorisms of Hippocrates of Cos; while from the twelfth century John of Salisbury, the leading northern humanist of the age, has left us an[20] account of the masters which we shall later have occasion to cite. Nowhere else today can we drop back more easily into a cathedral city of the twelfth century, the peaceful town still dominated by its church and sharing, now as then,\n"
     ]
    }
   ],
   "source": [
    "#print most similar paragraphs and score\n",
    "top_answers=similar_paragraphs[0][\"content\"]\n",
    "print(top_answers)"
   ],
   "metadata": {
    "collapsed": false
   }
  },
  {
   "cell_type": "code",
   "execution_count": 38,
   "outputs": [],
   "source": [
    "prompt=f\"You are a friendly and helpful chatbot. your job is to give a short and relevant answer to a given question, based on a specific background context. The context is: '{top_answers}'. Please give a relevant answer to the following question. Question: {query}. Answer:\"\n"
   ],
   "metadata": {
    "collapsed": false
   }
  },
  {
   "cell_type": "code",
   "execution_count": 40,
   "outputs": [
    {
     "name": "stderr",
     "output_type": "stream",
     "text": [
      "Setting `pad_token_id` to `eos_token_id`:50256 for open-end generation.\n"
     ]
    },
    {
     "data": {
      "text/plain": "[{'generated_text': \"You are a friendly and helpful chatbot. your job is to give a short and relevant answer to a given question, based on a specific background context. The context is: 'In northern Europe the origin of universities must be sought at Paris, in the cathedral school of Notre-Dame. By the beginning of the twelfth century in France and the Low Countries learning was no longer confined to monasteries but had its most active centres in the schools attached to cathedrals, of which the most famous were those of Liège, Rheims, Laon, Paris, Orleans, and Chartres. The most notable of these schools of the liberal arts was probably Chartres, distinguished by a canonist like St. Ives and by famous teachers of classics and philosophy like Bernard and Thierry. As early as 991 a monk of Rheims, Richer, describes the hardships of his journey to Chartres in order to study the Aphorisms of Hippocrates of Cos; while from the twelfth century John of Salisbury, the leading northern humanist of the age, has left us an[20] account of the masters which we shall later have occasion to cite. Nowhere else today can we drop back more easily into a cathedral city of the twelfth century, the peaceful town still dominated by its church and sharing, now as then,'. Please give a relevant answer to the following question. Question: Did the Greeks and the Romans have universities?. Answer: Yes. The Greek Universities were set up at Athens, at Thebes, at Miletus, and at other large places. The term university has its origin in the Greek term u-pos, meaning 'common' or 'civil'. The universities were schools of learning which gave an opportunity, in antiquity, to bring together a cross section of knowledge from different disciplines in order to develop them. A Roman universities were also set up in Rome, as was the so-called University of Rome, with the aim of providing an extensive library with the Greek classics and other subjects. In the 12th century the Roman authorities established the University of Florence in the city of Siena, in Italy, which became the most important of the German universities. In 1487, Pope Innocent III ordered that in every European country a new university should be built. The idea was that, in the future, all of Europe, with the exception of the Mediterranean, should become one intellectual society and every one should be allowed, according to his abilities, to pursue a scientific and pedagogical interest from the universities. At first, most of the Latin and German universities were built but as soon as it became clear that the world would become a more important place, they were also built in Italy and in France and Belgium. The first Universities were established and developed not in the countries of the Far East (most notably Russia, China, Korea, and Japan) but in the old Roman Empire, the old Greek Empire\"}]"
     },
     "execution_count": 40,
     "metadata": {},
     "output_type": "execute_result"
    }
   ],
   "source": [
    "from transformers import pipeline\n",
    "#Feed the relevant sentences and query to a GPT model to generate a response\n",
    "generator = pipeline(\"text-generation\", model=\"gpt2-large\")\n",
    "generator(prompt, max_length=600, do_sample=True)"
   ],
   "metadata": {
    "collapsed": false
   }
  }
 ],
 "metadata": {
  "kernelspec": {
   "display_name": "Python 3",
   "language": "python",
   "name": "python3"
  },
  "language_info": {
   "codemirror_mode": {
    "name": "ipython",
    "version": 2
   },
   "file_extension": ".py",
   "mimetype": "text/x-python",
   "name": "python",
   "nbconvert_exporter": "python",
   "pygments_lexer": "ipython2",
   "version": "2.7.6"
  }
 },
 "nbformat": 4,
 "nbformat_minor": 0
}
