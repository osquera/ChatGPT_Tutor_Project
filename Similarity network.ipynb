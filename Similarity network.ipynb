{
 "cells": [
  {
   "cell_type": "code",
   "execution_count": 26,
   "metadata": {
    "collapsed": true
   },
   "outputs": [],
   "source": [
    "import pandas as pd\n",
    "import numpy as np\n",
    "import pickle\n",
    "import itertools"
   ]
  },
  {
   "cell_type": "code",
   "execution_count": 25,
   "outputs": [],
   "source": [
    "raw_data = pd.read_pickle('./Data_Generation/df_pickle/question-context-20.pkl')\n",
    "raw_data.reset_index(inplace=True)"
   ],
   "metadata": {
    "collapsed": false
   }
  },
  {
   "cell_type": "code",
   "execution_count": 27,
   "outputs": [
    {
     "name": "stdout",
     "output_type": "stream",
     "text": [
      "                                                 question  \\\n",
      "0       What was the subject of Alan Turing's famous e...   \n",
      "1       What was the subject of Alan Turing's famous e...   \n",
      "2       What was the subject of Alan Turing's famous e...   \n",
      "3       What was the subject of Alan Turing's famous e...   \n",
      "4       What was the subject of Alan Turing's famous e...   \n",
      "...                                                   ...   \n",
      "506395  What is the goal of density estimation and how...   \n",
      "506396  What is the goal of density estimation and how...   \n",
      "506397  What is the goal of density estimation and how...   \n",
      "506398  What is the goal of density estimation and how...   \n",
      "506399  What is the goal of density estimation and how...   \n",
      "\n",
      "                                                  context  label  \n",
      "0        How can we build intelligent machines? More t...      1  \n",
      "1        Machine learning is the implementation of Tur...      0  \n",
      "2        Data mining refers to the discovery of patter...      0  \n",
      "3        Artificial intelligence is the construction o...      0  \n",
      "4        Machine learning draws on a number of discipl...      0  \n",
      "...                                                   ...    ...  \n",
      "506395  10.1.3 Cross-validation for quantifying genera...      0  \n",
      "506396  10.1.4 Cross-validation for model selection We...      0  \n",
      "506397  10.1.5 Two-layer cross-validation Let’s turn t...      0  \n",
      "506398  The Apriori algorithm is very efficient at ide...      0  \n",
      "506399   Our third measure of cluster similarity is ba...      1  \n",
      "\n",
      "[506400 rows x 3 columns]\n"
     ]
    }
   ],
   "source": [
    "import pandas as pd\n",
    "from itertools import product\n",
    "\n",
    "# create a sample dataframe\n",
    "#raw_data = pd.DataFrame({'question': ['What is your name?', 'What is your age?',\"what is 2+3\",\"what is 2+3\",3],\n",
    "#                   'context': ['My name is Stephen Hawking.', 'I am 76 years old.',5,\"the number 5\",3]})\n",
    "\n",
    "\n",
    "# Assuming you have a DataFrame called df with columns 'question' and 'answer'\n",
    "questions = raw_data['question'].unique()\n",
    "answers = raw_data['context'].unique()\n",
    "\n",
    "# Create a dictionary with question-answer pairs as keys and 1 as the value\n",
    "original_pairs = {(row['question'], row['context']): 1 for _, row in raw_data.iterrows()}\n",
    "\n",
    "# Generate all possible combinations and check if they are in the original_pairs dictionary\n",
    "all_combinations = pd.DataFrame([(q, a, original_pairs.get((q, a), 0)) for q, a in product(questions, answers)], columns=['question', 'context', 'label'])\n",
    "\n",
    "print(all_combinations)"
   ],
   "metadata": {
    "collapsed": false
   }
  },
  {
   "cell_type": "code",
   "execution_count": 28,
   "outputs": [
    {
     "data": {
      "text/plain": "                                                 question  \\\n0       What was the subject of Alan Turing's famous e...   \n1       What was the subject of Alan Turing's famous e...   \n2       What was the subject of Alan Turing's famous e...   \n3       What was the subject of Alan Turing's famous e...   \n4       What was the subject of Alan Turing's famous e...   \n...                                                   ...   \n506395  What is the goal of density estimation and how...   \n506396  What is the goal of density estimation and how...   \n506397  What is the goal of density estimation and how...   \n506398  What is the goal of density estimation and how...   \n506399  What is the goal of density estimation and how...   \n\n                                                  context  label  \n0        How can we build intelligent machines? More t...      1  \n1        Machine learning is the implementation of Tur...      0  \n2        Data mining refers to the discovery of patter...      0  \n3        Artificial intelligence is the construction o...      0  \n4        Machine learning draws on a number of discipl...      0  \n...                                                   ...    ...  \n506395  10.1.3 Cross-validation for quantifying genera...      0  \n506396  10.1.4 Cross-validation for model selection We...      0  \n506397  10.1.5 Two-layer cross-validation Let’s turn t...      0  \n506398  The Apriori algorithm is very efficient at ide...      0  \n506399   Our third measure of cluster similarity is ba...      1  \n\n[506400 rows x 3 columns]",
      "text/html": "<div>\n<style scoped>\n    .dataframe tbody tr th:only-of-type {\n        vertical-align: middle;\n    }\n\n    .dataframe tbody tr th {\n        vertical-align: top;\n    }\n\n    .dataframe thead th {\n        text-align: right;\n    }\n</style>\n<table border=\"1\" class=\"dataframe\">\n  <thead>\n    <tr style=\"text-align: right;\">\n      <th></th>\n      <th>question</th>\n      <th>context</th>\n      <th>label</th>\n    </tr>\n  </thead>\n  <tbody>\n    <tr>\n      <th>0</th>\n      <td>What was the subject of Alan Turing's famous e...</td>\n      <td>How can we build intelligent machines? More t...</td>\n      <td>1</td>\n    </tr>\n    <tr>\n      <th>1</th>\n      <td>What was the subject of Alan Turing's famous e...</td>\n      <td>Machine learning is the implementation of Tur...</td>\n      <td>0</td>\n    </tr>\n    <tr>\n      <th>2</th>\n      <td>What was the subject of Alan Turing's famous e...</td>\n      <td>Data mining refers to the discovery of patter...</td>\n      <td>0</td>\n    </tr>\n    <tr>\n      <th>3</th>\n      <td>What was the subject of Alan Turing's famous e...</td>\n      <td>Artificial intelligence is the construction o...</td>\n      <td>0</td>\n    </tr>\n    <tr>\n      <th>4</th>\n      <td>What was the subject of Alan Turing's famous e...</td>\n      <td>Machine learning draws on a number of discipl...</td>\n      <td>0</td>\n    </tr>\n    <tr>\n      <th>...</th>\n      <td>...</td>\n      <td>...</td>\n      <td>...</td>\n    </tr>\n    <tr>\n      <th>506395</th>\n      <td>What is the goal of density estimation and how...</td>\n      <td>10.1.3 Cross-validation for quantifying genera...</td>\n      <td>0</td>\n    </tr>\n    <tr>\n      <th>506396</th>\n      <td>What is the goal of density estimation and how...</td>\n      <td>10.1.4 Cross-validation for model selection We...</td>\n      <td>0</td>\n    </tr>\n    <tr>\n      <th>506397</th>\n      <td>What is the goal of density estimation and how...</td>\n      <td>10.1.5 Two-layer cross-validation Let’s turn t...</td>\n      <td>0</td>\n    </tr>\n    <tr>\n      <th>506398</th>\n      <td>What is the goal of density estimation and how...</td>\n      <td>The Apriori algorithm is very efficient at ide...</td>\n      <td>0</td>\n    </tr>\n    <tr>\n      <th>506399</th>\n      <td>What is the goal of density estimation and how...</td>\n      <td>Our third measure of cluster similarity is ba...</td>\n      <td>1</td>\n    </tr>\n  </tbody>\n</table>\n<p>506400 rows × 3 columns</p>\n</div>"
     },
     "execution_count": 28,
     "metadata": {},
     "output_type": "execute_result"
    }
   ],
   "source": [
    "all_combinations"
   ],
   "metadata": {
    "collapsed": false
   }
  }
 ],
 "metadata": {
  "kernelspec": {
   "display_name": "Python 3",
   "language": "python",
   "name": "python3"
  },
  "language_info": {
   "codemirror_mode": {
    "name": "ipython",
    "version": 2
   },
   "file_extension": ".py",
   "mimetype": "text/x-python",
   "name": "python",
   "nbconvert_exporter": "python",
   "pygments_lexer": "ipython2",
   "version": "2.7.6"
  }
 },
 "nbformat": 4,
 "nbformat_minor": 0
}
